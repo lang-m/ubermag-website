{
 "cells": [
  {
   "cell_type": "markdown",
   "metadata": {},
   "source": [
    "# Line object\n",
    "\n",
    "In this tutorial, we show the basics of the line object. We start from the following field:"
   ]
  },
  {
   "cell_type": "code",
   "execution_count": 1,
   "metadata": {},
   "outputs": [],
   "source": [
    "import discretisedfield as df\n",
    "\n",
    "mesh = df.Mesh(p1=(-10e-9, -10e-9, -10e-9), p2=(15e-9, 10e-9, 5e-9), cell=(1e-9, 1e-9, 1e-9))\n",
    "\n",
    "def value_fun(point):\n",
    "    x, y, z = point\n",
    "    c = 1e9\n",
    "    return (x*c, 2*y*c, 3*z*c)\n",
    "\n",
    "field = df.Field(mesh, dim=3, value=value_fun, norm=1e6)"
   ]
  },
  {
   "cell_type": "markdown",
   "metadata": {},
   "source": [
    "We create a line object by passing two points between which the line spans as well as the number of points we want to sample on that line:"
   ]
  },
  {
   "cell_type": "code",
   "execution_count": 2,
   "metadata": {},
   "outputs": [],
   "source": [
    "line = field.line(p1=(-10e-9, 0, 0), p2=(15e-9, 0, 0), n=25)"
   ]
  },
  {
   "cell_type": "markdown",
   "metadata": {},
   "source": [
    "We can ask for the data on the line:"
   ]
  },
  {
   "cell_type": "code",
   "execution_count": 3,
   "metadata": {},
   "outputs": [
    {
     "data": {
      "text/html": [
       "<div>\n",
       "<style scoped>\n",
       "    .dataframe tbody tr th:only-of-type {\n",
       "        vertical-align: middle;\n",
       "    }\n",
       "\n",
       "    .dataframe tbody tr th {\n",
       "        vertical-align: top;\n",
       "    }\n",
       "\n",
       "    .dataframe thead th {\n",
       "        text-align: right;\n",
       "    }\n",
       "</style>\n",
       "<table border=\"1\" class=\"dataframe\">\n",
       "  <thead>\n",
       "    <tr style=\"text-align: right;\">\n",
       "      <th></th>\n",
       "      <th>r</th>\n",
       "      <th>px</th>\n",
       "      <th>py</th>\n",
       "      <th>pz</th>\n",
       "      <th>vx</th>\n",
       "      <th>vy</th>\n",
       "      <th>vz</th>\n",
       "    </tr>\n",
       "  </thead>\n",
       "  <tbody>\n",
       "    <tr>\n",
       "      <th>0</th>\n",
       "      <td>0.000000e+00</td>\n",
       "      <td>-1.000000e-08</td>\n",
       "      <td>0.0</td>\n",
       "      <td>0.0</td>\n",
       "      <td>-982466.610991</td>\n",
       "      <td>103417.537999</td>\n",
       "      <td>155126.306999</td>\n",
       "    </tr>\n",
       "    <tr>\n",
       "      <th>1</th>\n",
       "      <td>1.041667e-09</td>\n",
       "      <td>-8.958333e-09</td>\n",
       "      <td>0.0</td>\n",
       "      <td>0.0</td>\n",
       "      <td>-978240.074002</td>\n",
       "      <td>115087.067530</td>\n",
       "      <td>172630.601295</td>\n",
       "    </tr>\n",
       "    <tr>\n",
       "      <th>2</th>\n",
       "      <td>2.083333e-09</td>\n",
       "      <td>-7.916667e-09</td>\n",
       "      <td>0.0</td>\n",
       "      <td>0.0</td>\n",
       "      <td>-972305.585328</td>\n",
       "      <td>129640.744710</td>\n",
       "      <td>194461.117066</td>\n",
       "    </tr>\n",
       "    <tr>\n",
       "      <th>3</th>\n",
       "      <td>3.125000e-09</td>\n",
       "      <td>-6.875000e-09</td>\n",
       "      <td>0.0</td>\n",
       "      <td>0.0</td>\n",
       "      <td>-963624.111659</td>\n",
       "      <td>148249.863332</td>\n",
       "      <td>222374.794998</td>\n",
       "    </tr>\n",
       "    <tr>\n",
       "      <th>4</th>\n",
       "      <td>4.166667e-09</td>\n",
       "      <td>-5.833333e-09</td>\n",
       "      <td>0.0</td>\n",
       "      <td>0.0</td>\n",
       "      <td>-950255.268139</td>\n",
       "      <td>172773.685116</td>\n",
       "      <td>259160.527674</td>\n",
       "    </tr>\n",
       "    <tr>\n",
       "      <th>5</th>\n",
       "      <td>5.208333e-09</td>\n",
       "      <td>-4.791667e-09</td>\n",
       "      <td>0.0</td>\n",
       "      <td>0.0</td>\n",
       "      <td>-928279.121633</td>\n",
       "      <td>206284.249252</td>\n",
       "      <td>309426.373878</td>\n",
       "    </tr>\n",
       "    <tr>\n",
       "      <th>6</th>\n",
       "      <td>6.250000e-09</td>\n",
       "      <td>-3.750000e-09</td>\n",
       "      <td>0.0</td>\n",
       "      <td>0.0</td>\n",
       "      <td>-889000.889001</td>\n",
       "      <td>254000.254000</td>\n",
       "      <td>381000.381001</td>\n",
       "    </tr>\n",
       "    <tr>\n",
       "      <th>7</th>\n",
       "      <td>7.291667e-09</td>\n",
       "      <td>-2.708333e-09</td>\n",
       "      <td>0.0</td>\n",
       "      <td>0.0</td>\n",
       "      <td>-811107.105654</td>\n",
       "      <td>324442.842262</td>\n",
       "      <td>486664.263392</td>\n",
       "    </tr>\n",
       "    <tr>\n",
       "      <th>8</th>\n",
       "      <td>8.333333e-09</td>\n",
       "      <td>-1.666667e-09</td>\n",
       "      <td>0.0</td>\n",
       "      <td>0.0</td>\n",
       "      <td>-639602.149067</td>\n",
       "      <td>426401.432711</td>\n",
       "      <td>639602.149067</td>\n",
       "    </tr>\n",
       "    <tr>\n",
       "      <th>9</th>\n",
       "      <td>9.375000e-09</td>\n",
       "      <td>-6.250000e-10</td>\n",
       "      <td>0.0</td>\n",
       "      <td>0.0</td>\n",
       "      <td>-267261.241912</td>\n",
       "      <td>534522.483825</td>\n",
       "      <td>801783.725737</td>\n",
       "    </tr>\n",
       "    <tr>\n",
       "      <th>10</th>\n",
       "      <td>1.041667e-08</td>\n",
       "      <td>4.166667e-10</td>\n",
       "      <td>0.0</td>\n",
       "      <td>0.0</td>\n",
       "      <td>267261.241912</td>\n",
       "      <td>534522.483825</td>\n",
       "      <td>801783.725737</td>\n",
       "    </tr>\n",
       "    <tr>\n",
       "      <th>11</th>\n",
       "      <td>1.145833e-08</td>\n",
       "      <td>1.458333e-09</td>\n",
       "      <td>0.0</td>\n",
       "      <td>0.0</td>\n",
       "      <td>639602.149067</td>\n",
       "      <td>426401.432711</td>\n",
       "      <td>639602.149067</td>\n",
       "    </tr>\n",
       "    <tr>\n",
       "      <th>12</th>\n",
       "      <td>1.250000e-08</td>\n",
       "      <td>2.500000e-09</td>\n",
       "      <td>0.0</td>\n",
       "      <td>0.0</td>\n",
       "      <td>811107.105654</td>\n",
       "      <td>324442.842262</td>\n",
       "      <td>486664.263392</td>\n",
       "    </tr>\n",
       "    <tr>\n",
       "      <th>13</th>\n",
       "      <td>1.354167e-08</td>\n",
       "      <td>3.541667e-09</td>\n",
       "      <td>0.0</td>\n",
       "      <td>0.0</td>\n",
       "      <td>889000.889001</td>\n",
       "      <td>254000.254000</td>\n",
       "      <td>381000.381001</td>\n",
       "    </tr>\n",
       "    <tr>\n",
       "      <th>14</th>\n",
       "      <td>1.458333e-08</td>\n",
       "      <td>4.583333e-09</td>\n",
       "      <td>0.0</td>\n",
       "      <td>0.0</td>\n",
       "      <td>928279.121633</td>\n",
       "      <td>206284.249252</td>\n",
       "      <td>309426.373878</td>\n",
       "    </tr>\n",
       "    <tr>\n",
       "      <th>15</th>\n",
       "      <td>1.562500e-08</td>\n",
       "      <td>5.625000e-09</td>\n",
       "      <td>0.0</td>\n",
       "      <td>0.0</td>\n",
       "      <td>950255.268139</td>\n",
       "      <td>172773.685116</td>\n",
       "      <td>259160.527674</td>\n",
       "    </tr>\n",
       "    <tr>\n",
       "      <th>16</th>\n",
       "      <td>1.666667e-08</td>\n",
       "      <td>6.666667e-09</td>\n",
       "      <td>0.0</td>\n",
       "      <td>0.0</td>\n",
       "      <td>963624.111659</td>\n",
       "      <td>148249.863332</td>\n",
       "      <td>222374.794998</td>\n",
       "    </tr>\n",
       "    <tr>\n",
       "      <th>17</th>\n",
       "      <td>1.770833e-08</td>\n",
       "      <td>7.708333e-09</td>\n",
       "      <td>0.0</td>\n",
       "      <td>0.0</td>\n",
       "      <td>972305.585328</td>\n",
       "      <td>129640.744710</td>\n",
       "      <td>194461.117066</td>\n",
       "    </tr>\n",
       "    <tr>\n",
       "      <th>18</th>\n",
       "      <td>1.875000e-08</td>\n",
       "      <td>8.750000e-09</td>\n",
       "      <td>0.0</td>\n",
       "      <td>0.0</td>\n",
       "      <td>978240.074002</td>\n",
       "      <td>115087.067530</td>\n",
       "      <td>172630.601295</td>\n",
       "    </tr>\n",
       "    <tr>\n",
       "      <th>19</th>\n",
       "      <td>1.979167e-08</td>\n",
       "      <td>9.791667e-09</td>\n",
       "      <td>0.0</td>\n",
       "      <td>0.0</td>\n",
       "      <td>982466.610991</td>\n",
       "      <td>103417.537999</td>\n",
       "      <td>155126.306999</td>\n",
       "    </tr>\n",
       "    <tr>\n",
       "      <th>20</th>\n",
       "      <td>2.083333e-08</td>\n",
       "      <td>1.083333e-08</td>\n",
       "      <td>0.0</td>\n",
       "      <td>0.0</td>\n",
       "      <td>985578.834374</td>\n",
       "      <td>93864.650893</td>\n",
       "      <td>140796.976339</td>\n",
       "    </tr>\n",
       "    <tr>\n",
       "      <th>21</th>\n",
       "      <td>2.187500e-08</td>\n",
       "      <td>1.187500e-08</td>\n",
       "      <td>0.0</td>\n",
       "      <td>0.0</td>\n",
       "      <td>987934.593051</td>\n",
       "      <td>85907.355918</td>\n",
       "      <td>128861.033876</td>\n",
       "    </tr>\n",
       "    <tr>\n",
       "      <th>22</th>\n",
       "      <td>2.291667e-08</td>\n",
       "      <td>1.291667e-08</td>\n",
       "      <td>0.0</td>\n",
       "      <td>0.0</td>\n",
       "      <td>989759.478081</td>\n",
       "      <td>79180.758246</td>\n",
       "      <td>118771.137370</td>\n",
       "    </tr>\n",
       "    <tr>\n",
       "      <th>23</th>\n",
       "      <td>2.395833e-08</td>\n",
       "      <td>1.395833e-08</td>\n",
       "      <td>0.0</td>\n",
       "      <td>0.0</td>\n",
       "      <td>991201.182589</td>\n",
       "      <td>73422.309821</td>\n",
       "      <td>110133.464732</td>\n",
       "    </tr>\n",
       "    <tr>\n",
       "      <th>24</th>\n",
       "      <td>2.500000e-08</td>\n",
       "      <td>1.500000e-08</td>\n",
       "      <td>0.0</td>\n",
       "      <td>0.0</td>\n",
       "      <td>992359.570702</td>\n",
       "      <td>68438.591083</td>\n",
       "      <td>102657.886624</td>\n",
       "    </tr>\n",
       "  </tbody>\n",
       "</table>\n",
       "</div>"
      ],
      "text/plain": [
       "               r            px   py   pz             vx             vy  \\\n",
       "0   0.000000e+00 -1.000000e-08  0.0  0.0 -982466.610991  103417.537999   \n",
       "1   1.041667e-09 -8.958333e-09  0.0  0.0 -978240.074002  115087.067530   \n",
       "2   2.083333e-09 -7.916667e-09  0.0  0.0 -972305.585328  129640.744710   \n",
       "3   3.125000e-09 -6.875000e-09  0.0  0.0 -963624.111659  148249.863332   \n",
       "4   4.166667e-09 -5.833333e-09  0.0  0.0 -950255.268139  172773.685116   \n",
       "5   5.208333e-09 -4.791667e-09  0.0  0.0 -928279.121633  206284.249252   \n",
       "6   6.250000e-09 -3.750000e-09  0.0  0.0 -889000.889001  254000.254000   \n",
       "7   7.291667e-09 -2.708333e-09  0.0  0.0 -811107.105654  324442.842262   \n",
       "8   8.333333e-09 -1.666667e-09  0.0  0.0 -639602.149067  426401.432711   \n",
       "9   9.375000e-09 -6.250000e-10  0.0  0.0 -267261.241912  534522.483825   \n",
       "10  1.041667e-08  4.166667e-10  0.0  0.0  267261.241912  534522.483825   \n",
       "11  1.145833e-08  1.458333e-09  0.0  0.0  639602.149067  426401.432711   \n",
       "12  1.250000e-08  2.500000e-09  0.0  0.0  811107.105654  324442.842262   \n",
       "13  1.354167e-08  3.541667e-09  0.0  0.0  889000.889001  254000.254000   \n",
       "14  1.458333e-08  4.583333e-09  0.0  0.0  928279.121633  206284.249252   \n",
       "15  1.562500e-08  5.625000e-09  0.0  0.0  950255.268139  172773.685116   \n",
       "16  1.666667e-08  6.666667e-09  0.0  0.0  963624.111659  148249.863332   \n",
       "17  1.770833e-08  7.708333e-09  0.0  0.0  972305.585328  129640.744710   \n",
       "18  1.875000e-08  8.750000e-09  0.0  0.0  978240.074002  115087.067530   \n",
       "19  1.979167e-08  9.791667e-09  0.0  0.0  982466.610991  103417.537999   \n",
       "20  2.083333e-08  1.083333e-08  0.0  0.0  985578.834374   93864.650893   \n",
       "21  2.187500e-08  1.187500e-08  0.0  0.0  987934.593051   85907.355918   \n",
       "22  2.291667e-08  1.291667e-08  0.0  0.0  989759.478081   79180.758246   \n",
       "23  2.395833e-08  1.395833e-08  0.0  0.0  991201.182589   73422.309821   \n",
       "24  2.500000e-08  1.500000e-08  0.0  0.0  992359.570702   68438.591083   \n",
       "\n",
       "               vz  \n",
       "0   155126.306999  \n",
       "1   172630.601295  \n",
       "2   194461.117066  \n",
       "3   222374.794998  \n",
       "4   259160.527674  \n",
       "5   309426.373878  \n",
       "6   381000.381001  \n",
       "7   486664.263392  \n",
       "8   639602.149067  \n",
       "9   801783.725737  \n",
       "10  801783.725737  \n",
       "11  639602.149067  \n",
       "12  486664.263392  \n",
       "13  381000.381001  \n",
       "14  309426.373878  \n",
       "15  259160.527674  \n",
       "16  222374.794998  \n",
       "17  194461.117066  \n",
       "18  172630.601295  \n",
       "19  155126.306999  \n",
       "20  140796.976339  \n",
       "21  128861.033876  \n",
       "22  118771.137370  \n",
       "23  110133.464732  \n",
       "24  102657.886624  "
      ]
     },
     "execution_count": 3,
     "metadata": {},
     "output_type": "execute_result"
    }
   ],
   "source": [
    "line.data"
   ]
  },
  {
   "cell_type": "markdown",
   "metadata": {},
   "source": [
    "Dimension of the value:"
   ]
  },
  {
   "cell_type": "code",
   "execution_count": 4,
   "metadata": {},
   "outputs": [
    {
     "data": {
      "text/plain": [
       "3"
      ]
     },
     "execution_count": 4,
     "metadata": {},
     "output_type": "execute_result"
    }
   ],
   "source": [
    "line.dim"
   ]
  },
  {
   "cell_type": "markdown",
   "metadata": {},
   "source": [
    "Length of the line:"
   ]
  },
  {
   "cell_type": "code",
   "execution_count": 5,
   "metadata": {},
   "outputs": [
    {
     "data": {
      "text/plain": [
       "2.5e-08"
      ]
     },
     "execution_count": 5,
     "metadata": {},
     "output_type": "execute_result"
    }
   ],
   "source": [
    "line.length"
   ]
  },
  {
   "cell_type": "markdown",
   "metadata": {},
   "source": [
    "The number of points:"
   ]
  },
  {
   "cell_type": "code",
   "execution_count": 6,
   "metadata": {},
   "outputs": [
    {
     "data": {
      "text/plain": [
       "25"
      ]
     },
     "execution_count": 6,
     "metadata": {},
     "output_type": "execute_result"
    }
   ],
   "source": [
    "line.n"
   ]
  },
  {
   "cell_type": "markdown",
   "metadata": {},
   "source": [
    "The columns storing coordinates of points are:"
   ]
  },
  {
   "cell_type": "code",
   "execution_count": 7,
   "metadata": {},
   "outputs": [
    {
     "data": {
      "text/plain": [
       "['px', 'py', 'pz']"
      ]
     },
     "execution_count": 7,
     "metadata": {},
     "output_type": "execute_result"
    }
   ],
   "source": [
    "line.point_columns"
   ]
  },
  {
   "cell_type": "markdown",
   "metadata": {},
   "source": [
    "Similarly, the columns storing field values are:"
   ]
  },
  {
   "cell_type": "code",
   "execution_count": 8,
   "metadata": {},
   "outputs": [
    {
     "data": {
      "text/plain": [
       "['vx', 'vy', 'vz']"
      ]
     },
     "execution_count": 8,
     "metadata": {},
     "output_type": "execute_result"
    }
   ],
   "source": [
    "line.value_columns"
   ]
  },
  {
   "cell_type": "markdown",
   "metadata": {},
   "source": [
    "By default, value columns start with `v`, but we can rename them:"
   ]
  },
  {
   "cell_type": "code",
   "execution_count": 9,
   "metadata": {},
   "outputs": [],
   "source": [
    "line.value_columns = ['xval', 'yval', 'zval']"
   ]
  },
  {
   "cell_type": "markdown",
   "metadata": {},
   "source": [
    "Line data is now:"
   ]
  },
  {
   "cell_type": "code",
   "execution_count": 10,
   "metadata": {},
   "outputs": [
    {
     "data": {
      "text/html": [
       "<div>\n",
       "<style scoped>\n",
       "    .dataframe tbody tr th:only-of-type {\n",
       "        vertical-align: middle;\n",
       "    }\n",
       "\n",
       "    .dataframe tbody tr th {\n",
       "        vertical-align: top;\n",
       "    }\n",
       "\n",
       "    .dataframe thead th {\n",
       "        text-align: right;\n",
       "    }\n",
       "</style>\n",
       "<table border=\"1\" class=\"dataframe\">\n",
       "  <thead>\n",
       "    <tr style=\"text-align: right;\">\n",
       "      <th></th>\n",
       "      <th>r</th>\n",
       "      <th>px</th>\n",
       "      <th>py</th>\n",
       "      <th>pz</th>\n",
       "      <th>xval</th>\n",
       "      <th>yval</th>\n",
       "      <th>zval</th>\n",
       "    </tr>\n",
       "  </thead>\n",
       "  <tbody>\n",
       "    <tr>\n",
       "      <th>0</th>\n",
       "      <td>0.000000e+00</td>\n",
       "      <td>-1.000000e-08</td>\n",
       "      <td>0.0</td>\n",
       "      <td>0.0</td>\n",
       "      <td>-982466.610991</td>\n",
       "      <td>103417.537999</td>\n",
       "      <td>155126.306999</td>\n",
       "    </tr>\n",
       "    <tr>\n",
       "      <th>1</th>\n",
       "      <td>1.041667e-09</td>\n",
       "      <td>-8.958333e-09</td>\n",
       "      <td>0.0</td>\n",
       "      <td>0.0</td>\n",
       "      <td>-978240.074002</td>\n",
       "      <td>115087.067530</td>\n",
       "      <td>172630.601295</td>\n",
       "    </tr>\n",
       "    <tr>\n",
       "      <th>2</th>\n",
       "      <td>2.083333e-09</td>\n",
       "      <td>-7.916667e-09</td>\n",
       "      <td>0.0</td>\n",
       "      <td>0.0</td>\n",
       "      <td>-972305.585328</td>\n",
       "      <td>129640.744710</td>\n",
       "      <td>194461.117066</td>\n",
       "    </tr>\n",
       "    <tr>\n",
       "      <th>3</th>\n",
       "      <td>3.125000e-09</td>\n",
       "      <td>-6.875000e-09</td>\n",
       "      <td>0.0</td>\n",
       "      <td>0.0</td>\n",
       "      <td>-963624.111659</td>\n",
       "      <td>148249.863332</td>\n",
       "      <td>222374.794998</td>\n",
       "    </tr>\n",
       "    <tr>\n",
       "      <th>4</th>\n",
       "      <td>4.166667e-09</td>\n",
       "      <td>-5.833333e-09</td>\n",
       "      <td>0.0</td>\n",
       "      <td>0.0</td>\n",
       "      <td>-950255.268139</td>\n",
       "      <td>172773.685116</td>\n",
       "      <td>259160.527674</td>\n",
       "    </tr>\n",
       "    <tr>\n",
       "      <th>5</th>\n",
       "      <td>5.208333e-09</td>\n",
       "      <td>-4.791667e-09</td>\n",
       "      <td>0.0</td>\n",
       "      <td>0.0</td>\n",
       "      <td>-928279.121633</td>\n",
       "      <td>206284.249252</td>\n",
       "      <td>309426.373878</td>\n",
       "    </tr>\n",
       "    <tr>\n",
       "      <th>6</th>\n",
       "      <td>6.250000e-09</td>\n",
       "      <td>-3.750000e-09</td>\n",
       "      <td>0.0</td>\n",
       "      <td>0.0</td>\n",
       "      <td>-889000.889001</td>\n",
       "      <td>254000.254000</td>\n",
       "      <td>381000.381001</td>\n",
       "    </tr>\n",
       "    <tr>\n",
       "      <th>7</th>\n",
       "      <td>7.291667e-09</td>\n",
       "      <td>-2.708333e-09</td>\n",
       "      <td>0.0</td>\n",
       "      <td>0.0</td>\n",
       "      <td>-811107.105654</td>\n",
       "      <td>324442.842262</td>\n",
       "      <td>486664.263392</td>\n",
       "    </tr>\n",
       "    <tr>\n",
       "      <th>8</th>\n",
       "      <td>8.333333e-09</td>\n",
       "      <td>-1.666667e-09</td>\n",
       "      <td>0.0</td>\n",
       "      <td>0.0</td>\n",
       "      <td>-639602.149067</td>\n",
       "      <td>426401.432711</td>\n",
       "      <td>639602.149067</td>\n",
       "    </tr>\n",
       "    <tr>\n",
       "      <th>9</th>\n",
       "      <td>9.375000e-09</td>\n",
       "      <td>-6.250000e-10</td>\n",
       "      <td>0.0</td>\n",
       "      <td>0.0</td>\n",
       "      <td>-267261.241912</td>\n",
       "      <td>534522.483825</td>\n",
       "      <td>801783.725737</td>\n",
       "    </tr>\n",
       "    <tr>\n",
       "      <th>10</th>\n",
       "      <td>1.041667e-08</td>\n",
       "      <td>4.166667e-10</td>\n",
       "      <td>0.0</td>\n",
       "      <td>0.0</td>\n",
       "      <td>267261.241912</td>\n",
       "      <td>534522.483825</td>\n",
       "      <td>801783.725737</td>\n",
       "    </tr>\n",
       "    <tr>\n",
       "      <th>11</th>\n",
       "      <td>1.145833e-08</td>\n",
       "      <td>1.458333e-09</td>\n",
       "      <td>0.0</td>\n",
       "      <td>0.0</td>\n",
       "      <td>639602.149067</td>\n",
       "      <td>426401.432711</td>\n",
       "      <td>639602.149067</td>\n",
       "    </tr>\n",
       "    <tr>\n",
       "      <th>12</th>\n",
       "      <td>1.250000e-08</td>\n",
       "      <td>2.500000e-09</td>\n",
       "      <td>0.0</td>\n",
       "      <td>0.0</td>\n",
       "      <td>811107.105654</td>\n",
       "      <td>324442.842262</td>\n",
       "      <td>486664.263392</td>\n",
       "    </tr>\n",
       "    <tr>\n",
       "      <th>13</th>\n",
       "      <td>1.354167e-08</td>\n",
       "      <td>3.541667e-09</td>\n",
       "      <td>0.0</td>\n",
       "      <td>0.0</td>\n",
       "      <td>889000.889001</td>\n",
       "      <td>254000.254000</td>\n",
       "      <td>381000.381001</td>\n",
       "    </tr>\n",
       "    <tr>\n",
       "      <th>14</th>\n",
       "      <td>1.458333e-08</td>\n",
       "      <td>4.583333e-09</td>\n",
       "      <td>0.0</td>\n",
       "      <td>0.0</td>\n",
       "      <td>928279.121633</td>\n",
       "      <td>206284.249252</td>\n",
       "      <td>309426.373878</td>\n",
       "    </tr>\n",
       "    <tr>\n",
       "      <th>15</th>\n",
       "      <td>1.562500e-08</td>\n",
       "      <td>5.625000e-09</td>\n",
       "      <td>0.0</td>\n",
       "      <td>0.0</td>\n",
       "      <td>950255.268139</td>\n",
       "      <td>172773.685116</td>\n",
       "      <td>259160.527674</td>\n",
       "    </tr>\n",
       "    <tr>\n",
       "      <th>16</th>\n",
       "      <td>1.666667e-08</td>\n",
       "      <td>6.666667e-09</td>\n",
       "      <td>0.0</td>\n",
       "      <td>0.0</td>\n",
       "      <td>963624.111659</td>\n",
       "      <td>148249.863332</td>\n",
       "      <td>222374.794998</td>\n",
       "    </tr>\n",
       "    <tr>\n",
       "      <th>17</th>\n",
       "      <td>1.770833e-08</td>\n",
       "      <td>7.708333e-09</td>\n",
       "      <td>0.0</td>\n",
       "      <td>0.0</td>\n",
       "      <td>972305.585328</td>\n",
       "      <td>129640.744710</td>\n",
       "      <td>194461.117066</td>\n",
       "    </tr>\n",
       "    <tr>\n",
       "      <th>18</th>\n",
       "      <td>1.875000e-08</td>\n",
       "      <td>8.750000e-09</td>\n",
       "      <td>0.0</td>\n",
       "      <td>0.0</td>\n",
       "      <td>978240.074002</td>\n",
       "      <td>115087.067530</td>\n",
       "      <td>172630.601295</td>\n",
       "    </tr>\n",
       "    <tr>\n",
       "      <th>19</th>\n",
       "      <td>1.979167e-08</td>\n",
       "      <td>9.791667e-09</td>\n",
       "      <td>0.0</td>\n",
       "      <td>0.0</td>\n",
       "      <td>982466.610991</td>\n",
       "      <td>103417.537999</td>\n",
       "      <td>155126.306999</td>\n",
       "    </tr>\n",
       "    <tr>\n",
       "      <th>20</th>\n",
       "      <td>2.083333e-08</td>\n",
       "      <td>1.083333e-08</td>\n",
       "      <td>0.0</td>\n",
       "      <td>0.0</td>\n",
       "      <td>985578.834374</td>\n",
       "      <td>93864.650893</td>\n",
       "      <td>140796.976339</td>\n",
       "    </tr>\n",
       "    <tr>\n",
       "      <th>21</th>\n",
       "      <td>2.187500e-08</td>\n",
       "      <td>1.187500e-08</td>\n",
       "      <td>0.0</td>\n",
       "      <td>0.0</td>\n",
       "      <td>987934.593051</td>\n",
       "      <td>85907.355918</td>\n",
       "      <td>128861.033876</td>\n",
       "    </tr>\n",
       "    <tr>\n",
       "      <th>22</th>\n",
       "      <td>2.291667e-08</td>\n",
       "      <td>1.291667e-08</td>\n",
       "      <td>0.0</td>\n",
       "      <td>0.0</td>\n",
       "      <td>989759.478081</td>\n",
       "      <td>79180.758246</td>\n",
       "      <td>118771.137370</td>\n",
       "    </tr>\n",
       "    <tr>\n",
       "      <th>23</th>\n",
       "      <td>2.395833e-08</td>\n",
       "      <td>1.395833e-08</td>\n",
       "      <td>0.0</td>\n",
       "      <td>0.0</td>\n",
       "      <td>991201.182589</td>\n",
       "      <td>73422.309821</td>\n",
       "      <td>110133.464732</td>\n",
       "    </tr>\n",
       "    <tr>\n",
       "      <th>24</th>\n",
       "      <td>2.500000e-08</td>\n",
       "      <td>1.500000e-08</td>\n",
       "      <td>0.0</td>\n",
       "      <td>0.0</td>\n",
       "      <td>992359.570702</td>\n",
       "      <td>68438.591083</td>\n",
       "      <td>102657.886624</td>\n",
       "    </tr>\n",
       "  </tbody>\n",
       "</table>\n",
       "</div>"
      ],
      "text/plain": [
       "               r            px   py   pz           xval           yval  \\\n",
       "0   0.000000e+00 -1.000000e-08  0.0  0.0 -982466.610991  103417.537999   \n",
       "1   1.041667e-09 -8.958333e-09  0.0  0.0 -978240.074002  115087.067530   \n",
       "2   2.083333e-09 -7.916667e-09  0.0  0.0 -972305.585328  129640.744710   \n",
       "3   3.125000e-09 -6.875000e-09  0.0  0.0 -963624.111659  148249.863332   \n",
       "4   4.166667e-09 -5.833333e-09  0.0  0.0 -950255.268139  172773.685116   \n",
       "5   5.208333e-09 -4.791667e-09  0.0  0.0 -928279.121633  206284.249252   \n",
       "6   6.250000e-09 -3.750000e-09  0.0  0.0 -889000.889001  254000.254000   \n",
       "7   7.291667e-09 -2.708333e-09  0.0  0.0 -811107.105654  324442.842262   \n",
       "8   8.333333e-09 -1.666667e-09  0.0  0.0 -639602.149067  426401.432711   \n",
       "9   9.375000e-09 -6.250000e-10  0.0  0.0 -267261.241912  534522.483825   \n",
       "10  1.041667e-08  4.166667e-10  0.0  0.0  267261.241912  534522.483825   \n",
       "11  1.145833e-08  1.458333e-09  0.0  0.0  639602.149067  426401.432711   \n",
       "12  1.250000e-08  2.500000e-09  0.0  0.0  811107.105654  324442.842262   \n",
       "13  1.354167e-08  3.541667e-09  0.0  0.0  889000.889001  254000.254000   \n",
       "14  1.458333e-08  4.583333e-09  0.0  0.0  928279.121633  206284.249252   \n",
       "15  1.562500e-08  5.625000e-09  0.0  0.0  950255.268139  172773.685116   \n",
       "16  1.666667e-08  6.666667e-09  0.0  0.0  963624.111659  148249.863332   \n",
       "17  1.770833e-08  7.708333e-09  0.0  0.0  972305.585328  129640.744710   \n",
       "18  1.875000e-08  8.750000e-09  0.0  0.0  978240.074002  115087.067530   \n",
       "19  1.979167e-08  9.791667e-09  0.0  0.0  982466.610991  103417.537999   \n",
       "20  2.083333e-08  1.083333e-08  0.0  0.0  985578.834374   93864.650893   \n",
       "21  2.187500e-08  1.187500e-08  0.0  0.0  987934.593051   85907.355918   \n",
       "22  2.291667e-08  1.291667e-08  0.0  0.0  989759.478081   79180.758246   \n",
       "23  2.395833e-08  1.395833e-08  0.0  0.0  991201.182589   73422.309821   \n",
       "24  2.500000e-08  1.500000e-08  0.0  0.0  992359.570702   68438.591083   \n",
       "\n",
       "             zval  \n",
       "0   155126.306999  \n",
       "1   172630.601295  \n",
       "2   194461.117066  \n",
       "3   222374.794998  \n",
       "4   259160.527674  \n",
       "5   309426.373878  \n",
       "6   381000.381001  \n",
       "7   486664.263392  \n",
       "8   639602.149067  \n",
       "9   801783.725737  \n",
       "10  801783.725737  \n",
       "11  639602.149067  \n",
       "12  486664.263392  \n",
       "13  381000.381001  \n",
       "14  309426.373878  \n",
       "15  259160.527674  \n",
       "16  222374.794998  \n",
       "17  194461.117066  \n",
       "18  172630.601295  \n",
       "19  155126.306999  \n",
       "20  140796.976339  \n",
       "21  128861.033876  \n",
       "22  118771.137370  \n",
       "23  110133.464732  \n",
       "24  102657.886624  "
      ]
     },
     "execution_count": 10,
     "metadata": {},
     "output_type": "execute_result"
    }
   ],
   "source": [
    "line.data"
   ]
  },
  {
   "cell_type": "markdown",
   "metadata": {},
   "source": [
    "## Line visualisation\n",
    "\n",
    "Default plot is:"
   ]
  },
  {
   "cell_type": "code",
   "execution_count": 11,
   "metadata": {},
   "outputs": [
    {
     "data": {
      "image/png": "[encoded data removed]",
      "text/plain": [
       "<Figure size 576x432 with 1 Axes>"
      ]
     },
     "metadata": {},
     "output_type": "display_data"
    }
   ],
   "source": [
    "line.mpl()"
   ]
  },
  {
   "cell_type": "markdown",
   "metadata": {},
   "source": [
    "We can change the size of the plot:"
   ]
  },
  {
   "cell_type": "code",
   "execution_count": 12,
   "metadata": {},
   "outputs": [
    {
     "data": {
      "image/png": "[encoded data removed]",
      "text/plain": [
       "<Figure size 720x360 with 1 Axes>"
      ]
     },
     "metadata": {},
     "output_type": "display_data"
    }
   ],
   "source": [
    "line.mpl(figsize=(10, 5))"
   ]
  },
  {
   "cell_type": "markdown",
   "metadata": {},
   "source": [
    "Also, we can limit the values on the x-axis:"
   ]
  },
  {
   "cell_type": "code",
   "execution_count": 13,
   "metadata": {},
   "outputs": [
    {
     "data": {
      "image/png": "[encoded data removed]",
      "text/plain": [
       "<Figure size 576x432 with 1 Axes>"
      ]
     },
     "metadata": {},
     "output_type": "display_data"
    }
   ],
   "source": [
    "line.mpl(xlim=[5e-9, 20e-9])"
   ]
  },
  {
   "cell_type": "markdown",
   "metadata": {},
   "source": [
    "and we can choose what we want to plot:"
   ]
  },
  {
   "cell_type": "code",
   "execution_count": 14,
   "metadata": {},
   "outputs": [
    {
     "data": {
      "image/png": "[encoded data removed]",
      "text/plain": [
       "<Figure size 576x432 with 1 Axes>"
      ]
     },
     "metadata": {},
     "output_type": "display_data"
    }
   ],
   "source": [
    "line.mpl(yaxis=['xval', 'yval'])"
   ]
  },
  {
   "cell_type": "markdown",
   "metadata": {},
   "source": [
    "Similar to all other plots, we can build interactive plots:"
   ]
  },
  {
   "cell_type": "code",
   "execution_count": 15,
   "metadata": {},
   "outputs": [
    {
     "data": {
      "application/vnd.jupyter.widget-view+json": {
       "model_id": "80b8c89fb784470094a6b725089e268c",
       "version_major": 2,
       "version_minor": 0
      },
      "text/plain": [
       "interactive(children=(SelectionRangeSlider(continuous_update=False, description='r (nm):', index=(0, 24), opti…"
      ]
     },
     "metadata": {},
     "output_type": "display_data"
    }
   ],
   "source": [
    "@df.interact(xlim=line.slider(continuous_update=False),\n",
    "             yaxis=line.selector())\n",
    "def myplot(xlim, yaxis):\n",
    "    return line.mpl(figsize=(10, 6), yaxis=yaxis, marker='o', xlim=xlim)"
   ]
  }
 ],
 "metadata": {
  "kernelspec": {
   "display_name": "Python 3",
   "language": "python",
   "name": "python3"
  },
  "language_info": {
   "codemirror_mode": {
    "name": "ipython",
    "version": 3
   },
   "file_extension": ".py",
   "mimetype": "text/x-python",
   "name": "python",
   "nbconvert_exporter": "python",
   "pygments_lexer": "ipython3",
   "version": "3.8.5"
  }
 },
 "nbformat": 4,
 "nbformat_minor": 4
}
