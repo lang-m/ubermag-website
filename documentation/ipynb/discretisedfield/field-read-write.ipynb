{
 "cells": [
  {
   "cell_type": "markdown",
   "metadata": {},
   "source": [
    "# Reading and writing fields\n",
    "\n",
    "There are two main file formats to which a `discretisedfield.Field` object can be saved:\n",
    "\n",
    "- [VTK](https://vtk.org/) for visualisation using e.g., [ParaView](https://www.paraview.org/) or [Mayavi](https://docs.enthought.com/mayavi/mayavi/)\n",
    "- OOMMF [Vector Field File Format (OVF)](https://math.nist.gov/oommf/doc/userguide12a5/userguide/Vector_Field_File_Format_OV.html) for exchanging fields with micromagnetic simulators.\n",
    "\n",
    "Let us say we have a nanosphere sample:\n",
    "\n",
    "$$x^2 + y^2 + z^2 <= r^2$$\n",
    "\n",
    "with $r=5\\,\\text{nm}$. The space is discretised into cells with dimensions $(0.5\\,\\text{nm}, 0.5\\,\\text{nm}, 0.5\\,\\text{nm})$. The value of the field at $(x, y, z)$ point is $(-cy, cx, cz)$, with $c=10^{9}$. The norm of the field inside the cylinder is $10^{6}$.\n",
    "\n",
    "Let us first build that field."
   ]
  },
  {
   "cell_type": "code",
   "execution_count": 1,
   "metadata": {},
   "outputs": [],
   "source": [
    "import discretisedfield as df\n",
    "\n",
    "r = 5e-9\n",
    "cell = (0.5e-9, 0.5e-9, 0.5e-9)\n",
    "\n",
    "mesh =  df.Mesh(p1=(-r, -r, -r), p2=(r, r, r), cell=cell)\n",
    "\n",
    "def norm_fun(pos):\n",
    "    x, y, z = pos\n",
    "    if x**2 + y**2 + z**2 <= r**2:\n",
    "        return 1e6\n",
    "    else:\n",
    "        return 0\n",
    "    \n",
    "def value_fun(pos):\n",
    "    x, y, z = pos\n",
    "    c = 1e9\n",
    "    return (-c*y, c*x, c*z)\n",
    "\n",
    "field = df.Field(mesh, dim=3, value=value_fun, norm=norm_fun)"
   ]
  },
  {
   "cell_type": "markdown",
   "metadata": {},
   "source": [
    "Let us have a quick view of the field we created"
   ]
  },
  {
   "cell_type": "code",
   "execution_count": 2,
   "metadata": {},
   "outputs": [
    {
     "data": {
      "application/vnd.jupyter.widget-view+json": {
       "model_id": "6da5dd3395004b86b9d6ef5b6b13d150",
       "version_major": 2,
       "version_minor": 0
      },
      "text/plain": [
       "Output()"
      ]
     },
     "metadata": {},
     "output_type": "display_data"
    }
   ],
   "source": [
    "# NBVAL_IGNORE_OUTPUT\n",
    "field.plane('z').k3d_vector(color_field=field.z)"
   ]
  },
  {
   "cell_type": "markdown",
   "metadata": {},
   "source": [
    "## Writing the field to a file\n",
    "\n",
    "The main method used for saving field in different files is `discretisedfield.Field.write()`. It takes `filename` as an argument, which is a string with one of the following extensions:\n",
    "- `'.vtk'` for saving in the VTK format\n",
    "- `'.ovf'`, `'.omf'`, `'.ohf'` for saving in the OVF format\n",
    "\n",
    "Let us firstly save the field in the VTK file."
   ]
  },
  {
   "cell_type": "code",
   "execution_count": 3,
   "metadata": {},
   "outputs": [],
   "source": [
    "vtkfilename = 'my_vtk_file.vtk'\n",
    "field.write(vtkfilename)"
   ]
  },
  {
   "cell_type": "markdown",
   "metadata": {},
   "source": [
    "We can check if the file was saved in the current directory."
   ]
  },
  {
   "cell_type": "code",
   "execution_count": 4,
   "metadata": {},
   "outputs": [
    {
     "data": {
      "text/plain": [
       "True"
      ]
     },
     "execution_count": 4,
     "metadata": {},
     "output_type": "execute_result"
    }
   ],
   "source": [
    "import os\n",
    "os.path.isfile(f'./{vtkfilename}')"
   ]
  },
  {
   "cell_type": "markdown",
   "metadata": {},
   "source": [
    "Now, we can delete the file:"
   ]
  },
  {
   "cell_type": "code",
   "execution_count": 5,
   "metadata": {},
   "outputs": [],
   "source": [
    "os.remove(f'./{vtkfilename}')"
   ]
  },
  {
   "cell_type": "markdown",
   "metadata": {},
   "source": [
    "Next, we can save the field in the OVF format and check whether it was created in the current directory."
   ]
  },
  {
   "cell_type": "code",
   "execution_count": 6,
   "metadata": {},
   "outputs": [
    {
     "data": {
      "text/plain": [
       "True"
      ]
     },
     "execution_count": 6,
     "metadata": {},
     "output_type": "execute_result"
    }
   ],
   "source": [
    "omffilename = 'my_omf_file.omf'\n",
    "field.write(omffilename)\n",
    "os.path.isfile(f'./{omffilename}')"
   ]
  },
  {
   "cell_type": "markdown",
   "metadata": {},
   "source": [
    "There are three different possible representations of an OVF file: one ASCII (`txt`) and two binary (`bin4` or `bin8`). ASCII `txt` representation is a default representation when `discretisedfield.Field.write()` is called. If any different representation is required, it can be passed via `representation` argument."
   ]
  },
  {
   "cell_type": "code",
   "execution_count": 7,
   "metadata": {},
   "outputs": [
    {
     "data": {
      "text/plain": [
       "True"
      ]
     },
     "execution_count": 7,
     "metadata": {},
     "output_type": "execute_result"
    }
   ],
   "source": [
    "field.write(omffilename, representation='bin8')\n",
    "os.path.isfile(f'./{omffilename}')"
   ]
  },
  {
   "cell_type": "markdown",
   "metadata": {},
   "source": [
    "## Reading the OVF file\n",
    "\n",
    "The method for reading OVF files is a class method `discretisedfield.Field.fromfile()`. By passing a `filename` argument, it reads the file and creates a `discretisedfield.Field` object. It is not required to pass the representation of the OVF file to the `discretisedfield.Field.fromfile()` method, because it can retrieve it from the content of the file."
   ]
  },
  {
   "cell_type": "code",
   "execution_count": 8,
   "metadata": {},
   "outputs": [],
   "source": [
    "read_field = df.Field.fromfile(omffilename)"
   ]
  },
  {
   "cell_type": "markdown",
   "metadata": {},
   "source": [
    "Like previouly, we can quickly visualise the field"
   ]
  },
  {
   "cell_type": "code",
   "execution_count": 9,
   "metadata": {},
   "outputs": [
    {
     "data": {
      "application/vnd.jupyter.widget-view+json": {
       "model_id": "6077f2e74955418fa3f4bc9e93e649bd",
       "version_major": 2,
       "version_minor": 0
      },
      "text/plain": [
       "Output()"
      ]
     },
     "metadata": {},
     "output_type": "display_data"
    }
   ],
   "source": [
    "# NBVAL_IGNORE_OUTPUT\n",
    "read_field.plane('z').k3d_vector(color_field=read_field.z)"
   ]
  },
  {
   "cell_type": "markdown",
   "metadata": {},
   "source": [
    "Finally, we can delete the OVF file we created."
   ]
  },
  {
   "cell_type": "code",
   "execution_count": 10,
   "metadata": {},
   "outputs": [],
   "source": [
    "os.remove(f'./{omffilename}')"
   ]
  }
 ],
 "metadata": {
  "kernelspec": {
   "display_name": "Python 3",
   "language": "python",
   "name": "python3"
  },
  "language_info": {
   "codemirror_mode": {
    "name": "ipython",
    "version": 3
   },
   "file_extension": ".py",
   "mimetype": "text/x-python",
   "name": "python",
   "nbconvert_exporter": "python",
   "pygments_lexer": "ipython3",
   "version": "3.8.5"
  },
  "widgets": {
   "application/vnd.jupyter.widget-state+json": {
    "state": {
     "0aa7f820bf754576b207accc5ef5af93": {
      "buffers": [
       {
        "data": "",
        "encoding": "base64",
        "path": [
         "colors",
         "data"
        ]
       },
       {
        "data": "AACAPwAAAAAAAAAAAAAAAAAAAAAAAIA/AAAAAAAAAAAAAAAAAAAAAAAAgD8AAAAAAAAAAAAAAAAAAAAAAACAPw==",
        "encoding": "base64",
        "path": [
         "model_matrix",
         "data"
        ]
       },
       {
        "data": "",
        "encoding": "base64",
        "path": [
         "opacities",
         "data"
        ]
       },
       {
        "data": "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",
        "encoding": "base64",
        "path": [
         "positions",
         "data"
        ]
       }
      ],
      "model_module": "k3d",
      "model_module_version": "2.9.1",
      "model_name": "ObjectModel",
      "state": {
       "_view_count": null,
       "_view_module": null,
       "_view_module_version": "",
       "_view_name": null,
       "color": 5010096,
       "colorLegend": false,
       "colors": {
        "dtype": "uint32",
        "shape": [
         0
        ]
       },
       "compression_level": 0,
       "id": 139823736083168,
       "mesh_detail": 2,
       "model_matrix": {
        "dtype": "float32",
        "shape": [
         4,
         4
        ]
       },
       "name": "Points #1",
       "opacities": {
        "dtype": "float32",
        "shape": [
         0
        ]
       },
       "opacity": 1,
       "point_size": 0.125,
       "positions": {
        "dtype": "float32",
        "shape": [
         316,
         3
        ]
       },
       "shader": "3dSpecular",
       "type": "Points",
       "visible": true
      }
     },
     "122b0da2be4f48f0956938be5cafd2d9": {
      "model_module": "k3d",
      "model_module_version": "2.9.1",
      "model_name": "PlotModel",
      "state": {
       "_backend_version": "2.9.1",
       "_dom_classes": [],
       "_view_count": null,
       "antialias": 3,
       "auto_rendering": true,
       "axes": [
        "x\\,\\text{(nm)}",
        "y\\,\\text{(nm)}",
        "z\\,\\text{(nm)}"
       ],
       "axes_helper": 1,
       "background_color": 16777215,
       "camera": [
        11.313738375480305,
        -16.970607563220458,
        1.1313738375480404,
        0,
        0,
        0,
        0,
        0,
        1
       ],
       "camera_animation": [],
       "camera_auto_fit": true,
       "camera_fov": 60,
       "camera_mode": "trackball",
       "camera_no_pan": false,
       "camera_no_rotate": false,
       "camera_no_zoom": false,
       "clipping_planes": [],
       "colorbar_object_id": -1,
       "colorbar_scientific": false,
       "fps": 25,
       "fps_meter": false,
       "grid": [
        -1,
        -1,
        -1,
        1,
        1,
        1
       ],
       "grid_auto_fit": true,
       "grid_visible": true,
       "height": 512,
       "layout": "IPY_MODEL_7294e5f20ae94bdead198bd2740201ad",
       "lighting": 1.5,
       "manipulate_mode": "translate",
       "menu_visibility": true,
       "mode": "view",
       "name": null,
       "object_ids": [
        139823736083264,
        139823736083168
       ],
       "rendering_steps": 1,
       "screenshot": "",
       "screenshot_scale": 2,
       "snapshot": "",
       "snapshot_include_js": true,
       "time": 0,
       "voxel_paint_color": 0
      }
     },
     "13cd3fd351a9486da518881faae28adc": {
      "model_module": "k3d",
      "model_module_version": "2.9.1",
      "model_name": "PlotModel",
      "state": {
       "_backend_version": "2.9.1",
       "_dom_classes": [],
       "_view_count": null,
       "antialias": 3,
       "auto_rendering": true,
       "axes": [
        "x\\,\\text{(nm)}",
        "y\\,\\text{(nm)}",
        "z\\,\\text{(nm)}"
       ],
       "axes_helper": 1,
       "background_color": 16777215,
       "camera": [
        11.313738375480305,
        -16.970607563220458,
        1.1313738375480404,
        0,
        0,
        0,
        0,
        0,
        1
       ],
       "camera_animation": [],
       "camera_auto_fit": true,
       "camera_fov": 60,
       "camera_mode": "trackball",
       "camera_no_pan": false,
       "camera_no_rotate": false,
       "camera_no_zoom": false,
       "clipping_planes": [],
       "colorbar_object_id": -1,
       "colorbar_scientific": false,
       "fps": 25,
       "fps_meter": false,
       "grid": [
        -1,
        -1,
        -1,
        1,
        1,
        1
       ],
       "grid_auto_fit": true,
       "grid_visible": true,
       "height": 512,
       "layout": "IPY_MODEL_edecda156cf74459b484733e79729f0b",
       "lighting": 1.5,
       "manipulate_mode": "translate",
       "menu_visibility": true,
       "mode": "view",
       "name": null,
       "object_ids": [
        139822717678496,
        139823736085040
       ],
       "rendering_steps": 1,
       "screenshot": "",
       "screenshot_scale": 2,
       "snapshot": "",
       "snapshot_include_js": true,
       "time": 0,
       "voxel_paint_color": 0
      }
     },
     "14c68c045d7a4c938cf0d34aee69e4e7": {
      "model_module": "@jupyter-widgets/base",
      "model_module_version": "1.2.0",
      "model_name": "LayoutModel",
      "state": {}
     },
     "14d644abb472449d963d6d0629f9d11e": {
      "buffers": [
       {
        "data": "",
        "encoding": "base64",
        "path": [
         "colors",
         "data"
        ]
       },
       {
        "data": "AACAPwAAAAAAAAAAAAAAAAAAAAAAAIA/AAAAAAAAAAAAAAAAAAAAAAAAgD8AAAAAAAAAAAAAAAAAAAAAAACAPw==",
        "encoding": "base64",
        "path": [
         "model_matrix",
         "data"
        ]
       },
       {
        "data": "",
        "encoding": "base64",
        "path": [
         "opacities",
         "data"
        ]
       },
       {
        "data": "AACgvwAAmMAAAAAAAABAvwAAmMAAAAAAAACAvgAAmMAAAAAAAACAPgAAmMAAAAAAAABAPwAAmMAAAAAAAACgPwAAmMAAAAAAAAAQwAAAiMAAAAAAAADgvwAAiMAAAAAAAACgvwAAiMAAAAAAAABAvwAAiMAAAAAAAACAvgAAiMAAAAAAAACAPgAAiMAAAAAAAABAPwAAiMAAAAAAAACgPwAAiMAAAAAAAADgPwAAiMAAAAAAAAAQQAAAiMAAAAAAAABQwAAAcMAAAAAAAAAwwAAAcMAAAAAAAAAQwAAAcMAAAAAAAADgvwAAcMAAAAAAAACgvwAAcMAAAAAAAABAvwAAcMAAAAAAAACAvgAAcMAAAAAAAACAPgAAcMAAAAAAAABAPwAAcMAAAAAAAACgPwAAcMAAAAAAAADgPwAAcMAAAAAAAAAQQAAAcMAAAAAAAAAwQAAAcMAAAAAAAABQQAAAcMAAAAAAAABwwAAAUMAAAAAAAABQwAAAUMAAAAAAAAAwwAAAUMAAAAAAAAAQwAAAUMAAAAAAAADgvwAAUMAAAAAAAACgvwAAUMAAAAAAAABAvwAAUMAAAAAAAACAvgAAUMAAAAAAAACAPgAAUMAAAAAAAABAPwAAUMAAAAAAAACgPwAAUMAAAAAAAADgPwAAUMAAAAAAAAAQQAAAUMAAAAAAAAAwQAAAUMAAAAAAAABQQAAAUMAAAAAAAABwQAAAUMAAAAAAAABwwAAAMMAAAAAAAABQwAAAMMAAAAAAAAAwwAAAMMAAAAAAAAAQwAAAMMAAAAAAAADgvwAAMMAAAAAAAACgvwAAMMAAAAAAAABAvwAAMMAAAAAAAACAvgAAMMAAAAAAAACAPgAAMMAAAAAAAABAPwAAMMAAAAAAAACgPwAAMMAAAAAAAADgPwAAMMAAAAAAAAAQQAAAMMAAAAAAAAAwQAAAMMAAAAAAAABQQAAAMMAAAAAAAABwQAAAMMAAAAAAAACIwAAAEMAAAAAAAABwwAAAEMAAAAAAAABQwAAAEMAAAAAAAAAwwAAAEMAAAAAAAAAQwAAAEMAAAAAAAADgvwAAEMAAAAAAAACgvwAAEMAAAAAAAABAvwAAEMAAAAAAAACAvgAAEMAAAAAAAACAPgAAEMAAAAAAAABAPwAAEMAAAAAAAACgPwAAEMAAAAAAAADgPwAAEMAAAAAAAAAQQAAAEMAAAAAAAAAwQAAAEMAAAAAAAABQQAAAEMAAAAAAAABwQAAAEMAAAAAAAACIQAAAEMAAAAAAAACIwAAA4L8AAAAAAABwwAAA4L8AAAAAAABQwAAA4L8AAAAAAAAwwAAA4L8AAAAAAAAQwAAA4L8AAAAAAADgvwAA4L8AAAAAAACgvwAA4L8AAAAAAABAvwAA4L8AAAAAAACAvgAA4L8AAAAAAACAPgAA4L8AAAAAAABAPwAA4L8AAAAAAACgPwAA4L8AAAAAAADgPwAA4L8AAAAAAAAQQAAA4L8AAAAAAAAwQAAA4L8AAAAAAABQQAAA4L8AAAAAAABwQAAA4L8AAAAAAACIQAAA4L8AAAAAAACYwAAAoL8AAAAAAACIwAAAoL8AAAAAAABwwAAAoL8AAAAAAABQwAAAoL8AAAAAAAAwwAAAoL8AAAAAAAAQwAAAoL8AAAAAAADgvwAAoL8AAAAAAACgvwAAoL8AAAAAAABAvwAAoL8AAAAAAACAvgAAoL8AAAAAAACAPgAAoL8AAAAAAABAPwAAoL8AAAAAAACgPwAAoL8AAAAAAADgPwAAoL8AAAAAAAAQQAAAoL8AAAAAAAAwQAAAoL8AAAAAAABQQAAAoL8AAAAAAABwQAAAoL8AAAAAAACIQAAAoL8AAAAAAACYQAAAoL8AAAAAAACYwAAAQL8AAAAAAACIwAAAQL8AAAAAAABwwAAAQL8AAAAAAABQwAAAQL8AAAAAAAAwwAAAQL8AAAAAAAAQwAAAQL8AAAAAAADgvwAAQL8AAAAAAACgvwAAQL8AAAAAAABAvwAAQL8AAAAAAACAvgAAQL8AAAAAAACAPgAAQL8AAAAAAABAPwAAQL8AAAAAAACgPwAAQL8AAAAAAADgPwAAQL8AAAAAAAAQQAAAQL8AAAAAAAAwQAAAQL8AAAAAAABQQAAAQL8AAAAAAABwQAAAQL8AAAAAAACIQAAAQL8AAAAAAACYQAAAQL8AAAAAAACYwAAAgL4AAAAAAACIwAAAgL4AAAAAAABwwAAAgL4AAAAAAABQwAAAgL4AAAAAAAAwwAAAgL4AAAAAAAAQwAAAgL4AAAAAAADgvwAAgL4AAAAAAACgvwAAgL4AAAAAAABAvwAAgL4AAAAAAACAvgAAgL4AAAAAAACAPgAAgL4AAAAAAABAPwAAgL4AAAAAAACgPwAAgL4AAAAAAADgPwAAgL4AAAAAAAAQQAAAgL4AAAAAAAAwQAAAgL4AAAAAAABQQAAAgL4AAAAAAABwQAAAgL4AAAAAAACIQAAAgL4AAAAAAACYQAAAgL4AAAAAAACYwAAAgD4AAAAAAACIwAAAgD4AAAAAAABwwAAAgD4AAAAAAABQwAAAgD4AAAAAAAAwwAAAgD4AAAAAAAAQwAAAgD4AAAAAAADgvwAAgD4AAAAAAACgvwAAgD4AAAAAAABAvwAAgD4AAAAAAACAvgAAgD4AAAAAAACAPgAAgD4AAAAAAABAPwAAgD4AAAAAAACgPwAAgD4AAAAAAADgPwAAgD4AAAAAAAAQQAAAgD4AAAAAAAAwQAAAgD4AAAAAAABQQAAAgD4AAAAAAABwQAAAgD4AAAAAAACIQAAAgD4AAAAAAACYQAAAgD4AAAAAAACYwAAAQD8AAAAAAACIwAAAQD8AAAAAAABwwAAAQD8AAAAAAABQwAAAQD8AAAAAAAAwwAAAQD8AAAAAAAAQwAAAQD8AAAAAAADgvwAAQD8AAAAAAACgvwAAQD8AAAAAAABAvwAAQD8AAAAAAACAvgAAQD8AAAAAAACAPgAAQD8AAAAAAABAPwAAQD8AAAAAAACgPwAAQD8AAAAAAADgPwAAQD8AAAAAAAAQQAAAQD8AAAAAAAAwQAAAQD8AAAAAAABQQAAAQD8AAAAAAABwQAAAQD8AAAAAAACIQAAAQD8AAAAAAACYQAAAQD8AAAAAAACYwAAAoD8AAAAAAACIwAAAoD8AAAAAAABwwAAAoD8AAAAAAABQwAAAoD8AAAAAAAAwwAAAoD8AAAAAAAAQwAAAoD8AAAAAAADgvwAAoD8AAAAAAACgvwAAoD8AAAAAAABAvwAAoD8AAAAAAACAvgAAoD8AAAAAAACAPgAAoD8AAAAAAABAPwAAoD8AAAAAAACgPwAAoD8AAAAAAADgPwAAoD8AAAAAAAAQQAAAoD8AAAAAAAAwQAAAoD8AAAAAAABQQAAAoD8AAAAAAABwQAAAoD8AAAAAAACIQAAAoD8AAAAAAACYQAAAoD8AAAAAAACIwAAA4D8AAAAAAABwwAAA4D8AAAAAAABQwAAA4D8AAAAAAAAwwAAA4D8AAAAAAAAQwAAA4D8AAAAAAADgvwAA4D8AAAAAAACgvwAA4D8AAAAAAABAvwAA4D8AAAAAAACAvgAA4D8AAAAAAACAPgAA4D8AAAAAAABAPwAA4D8AAAAAAACgPwAA4D8AAAAAAADgPwAA4D8AAAAAAAAQQAAA4D8AAAAAAAAwQAAA4D8AAAAAAABQQAAA4D8AAAAAAABwQAAA4D8AAAAAAACIQAAA4D8AAAAAAACIwAAAEEAAAAAAAABwwAAAEEAAAAAAAABQwAAAEEAAAAAAAAAwwAAAEEAAAAAAAAAQwAAAEEAAAAAAAADgvwAAEEAAAAAAAACgvwAAEEAAAAAAAABAvwAAEEAAAAAAAACAvgAAEEAAAAAAAACAPgAAEEAAAAAAAABAPwAAEEAAAAAAAACgPwAAEEAAAAAAAADgPwAAEEAAAAAAAAAQQAAAEEAAAAAAAAAwQAAAEEAAAAAAAABQQAAAEEAAAAAAAABwQAAAEEAAAAAAAACIQAAAEEAAAAAAAABwwAAAMEAAAAAAAABQwAAAMEAAAAAAAAAwwAAAMEAAAAAAAAAQwAAAMEAAAAAAAADgvwAAMEAAAAAAAACgvwAAMEAAAAAAAABAvwAAMEAAAAAAAACAvgAAMEAAAAAAAACAPgAAMEAAAAAAAABAPwAAMEAAAAAAAACgPwAAMEAAAAAAAADgPwAAMEAAAAAAAAAQQAAAMEAAAAAAAAAwQAAAMEAAAAAAAABQQAAAMEAAAAAAAABwQAAAMEAAAAAAAABwwAAAUEAAAAAAAABQwAAAUEAAAAAAAAAwwAAAUEAAAAAAAAAQwAAAUEAAAAAAAADgvwAAUEAAAAAAAACgvwAAUEAAAAAAAABAvwAAUEAAAAAAAACAvgAAUEAAAAAAAACAPgAAUEAAAAAAAABAPwAAUEAAAAAAAACgPwAAUEAAAAAAAADgPwAAUEAAAAAAAAAQQAAAUEAAAAAAAAAwQAAAUEAAAAAAAABQQAAAUEAAAAAAAABwQAAAUEAAAAAAAABQwAAAcEAAAAAAAAAwwAAAcEAAAAAAAAAQwAAAcEAAAAAAAADgvwAAcEAAAAAAAACgvwAAcEAAAAAAAABAvwAAcEAAAAAAAACAvgAAcEAAAAAAAACAPgAAcEAAAAAAAABAPwAAcEAAAAAAAACgPwAAcEAAAAAAAADgPwAAcEAAAAAAAAAQQAAAcEAAAAAAAAAwQAAAcEAAAAAAAABQQAAAcEAAAAAAAAAQwAAAiEAAAAAAAADgvwAAiEAAAAAAAACgvwAAiEAAAAAAAABAvwAAiEAAAAAAAACAvgAAiEAAAAAAAACAPgAAiEAAAAAAAABAPwAAiEAAAAAAAACgPwAAiEAAAAAAAADgPwAAiEAAAAAAAAAQQAAAiEAAAAAAAACgvwAAmEAAAAAAAABAvwAAmEAAAAAAAACAvgAAmEAAAAAAAACAPgAAmEAAAAAAAABAPwAAmEAAAAAAAACgPwAAmEAAAAAA",
        "encoding": "base64",
        "path": [
         "positions",
         "data"
        ]
       }
      ],
      "model_module": "k3d",
      "model_module_version": "2.9.1",
      "model_name": "ObjectModel",
      "state": {
       "_view_count": null,
       "_view_module": null,
       "_view_module_version": "",
       "_view_name": null,
       "color": 5010096,
       "colorLegend": false,
       "colors": {
        "dtype": "uint32",
        "shape": [
         0
        ]
       },
       "compression_level": 0,
       "id": 139823736085040,
       "mesh_detail": 2,
       "model_matrix": {
        "dtype": "float32",
        "shape": [
         4,
         4
        ]
       },
       "name": "Points #1",
       "opacities": {
        "dtype": "float32",
        "shape": [
         0
        ]
       },
       "opacity": 1,
       "point_size": 0.125,
       "positions": {
        "dtype": "float32",
        "shape": [
         316,
         3
        ]
       },
       "shader": "3dSpecular",
       "type": "Points",
       "visible": true
      }
     },
     "6077f2e74955418fa3f4bc9e93e649bd": {
      "model_module": "@jupyter-widgets/output",
      "model_module_version": "1.0.0",
      "model_name": "OutputModel",
      "state": {
       "layout": "IPY_MODEL_833fc28f618942749491871d3a057fd4",
       "outputs": [
        {
         "data": {
          "application/vnd.jupyter.widget-view+json": {
           "model_id": "13cd3fd351a9486da518881faae28adc",
           "version_major": 2,
           "version_minor": 0
          },
          "text/plain": "Plot(antialias=3, axes=['x', 'y', 'z'], axes_helper=1.0, background_color=16777215, camera=[2, -3, 0.2, 0.0, 0…"
         },
         "metadata": {},
         "output_type": "display_data"
        }
       ]
      }
     },
     "6af3d600623948d396c1f676a0c7d8ec": {
      "buffers": [
       {
        "data": "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",
        "encoding": "base64",
        "path": [
         "colors",
         "data"
        ]
       },
       {
        "data": "AACAPwAAAAAAAAAAAAAAAAAAAAAAAIA/AAAAAAAAAAAAAAAAAAAAAAAAgD8AAAAAAAAAAAAAAAAAAAAAAACAPw==",
        "encoding": "base64",
        "path": [
         "model_matrix",
         "data"
        ]
       },
       {
        "data": "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",
        "encoding": "base64",
        "path": [
         "origins",
         "data"
        ]
       },
       {
        "data": "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",
        "encoding": "base64",
        "path": [
         "vectors",
         "data"
        ]
       }
      ],
      "model_module": "k3d",
      "model_module_version": "2.9.1",
      "model_name": "ObjectModel",
      "state": {
       "_view_count": null,
       "_view_module": null,
       "_view_module_version": "",
       "_view_name": null,
       "colorLegend": false,
       "colors": {
        "dtype": "uint32",
        "shape": [
         316,
         2
        ]
       },
       "compression_level": 0,
       "head_color": 255,
       "head_size": 1,
       "id": 139822717678496,
       "label_size": 1,
       "labels": [],
       "line_width": 0.01,
       "model_matrix": {
        "dtype": "float32",
        "shape": [
         4,
         4
        ]
       },
       "name": "Vectors #1",
       "origin_color": 255,
       "origins": {
        "dtype": "float32",
        "shape": [
         316,
         3
        ]
       },
       "type": "Vectors",
       "use_head": true,
       "vectors": {
        "dtype": "float32",
        "shape": [
         316,
         3
        ]
       },
       "visible": true
      }
     },
     "6da5dd3395004b86b9d6ef5b6b13d150": {
      "model_module": "@jupyter-widgets/output",
      "model_module_version": "1.0.0",
      "model_name": "OutputModel",
      "state": {
       "layout": "IPY_MODEL_14c68c045d7a4c938cf0d34aee69e4e7",
       "outputs": [
        {
         "data": {
          "application/vnd.jupyter.widget-view+json": {
           "model_id": "122b0da2be4f48f0956938be5cafd2d9",
           "version_major": 2,
           "version_minor": 0
          },
          "text/plain": "Plot(antialias=3, axes=['x', 'y', 'z'], axes_helper=1.0, background_color=16777215, camera=[2, -3, 0.2, 0.0, 0…"
         },
         "metadata": {},
         "output_type": "display_data"
        }
       ]
      }
     },
     "7294e5f20ae94bdead198bd2740201ad": {
      "model_module": "@jupyter-widgets/base",
      "model_module_version": "1.2.0",
      "model_name": "LayoutModel",
      "state": {}
     },
     "833fc28f618942749491871d3a057fd4": {
      "model_module": "@jupyter-widgets/base",
      "model_module_version": "1.2.0",
      "model_name": "LayoutModel",
      "state": {}
     },
     "bc7bb704a8634e6886ad7ec8039fdad5": {
      "buffers": [
       {
        "data": "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",
        "encoding": "base64",
        "path": [
         "colors",
         "data"
        ]
       },
       {
        "data": "AACAPwAAAAAAAAAAAAAAAAAAAAAAAIA/AAAAAAAAAAAAAAAAAAAAAAAAgD8AAAAAAAAAAAAAAAAAAAAAAACAPw==",
        "encoding": "base64",
        "path": [
         "model_matrix",
         "data"
        ]
       },
       {
        "data": "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",
        "encoding": "base64",
        "path": [
         "origins",
         "data"
        ]
       },
       {
        "data": "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",
        "encoding": "base64",
        "path": [
         "vectors",
         "data"
        ]
       }
      ],
      "model_module": "k3d",
      "model_module_version": "2.9.1",
      "model_name": "ObjectModel",
      "state": {
       "_view_count": null,
       "_view_module": null,
       "_view_module_version": "",
       "_view_name": null,
       "colorLegend": false,
       "colors": {
        "dtype": "uint32",
        "shape": [
         316,
         2
        ]
       },
       "compression_level": 0,
       "head_color": 255,
       "head_size": 1,
       "id": 139823736083264,
       "label_size": 1,
       "labels": [],
       "line_width": 0.01,
       "model_matrix": {
        "dtype": "float32",
        "shape": [
         4,
         4
        ]
       },
       "name": "Vectors #1",
       "origin_color": 255,
       "origins": {
        "dtype": "float32",
        "shape": [
         316,
         3
        ]
       },
       "type": "Vectors",
       "use_head": true,
       "vectors": {
        "dtype": "float32",
        "shape": [
         316,
         3
        ]
       },
       "visible": true
      }
     },
     "edecda156cf74459b484733e79729f0b": {
      "model_module": "@jupyter-widgets/base",
      "model_module_version": "1.2.0",
      "model_name": "LayoutModel",
      "state": {}
     }
    },
    "version_major": 2,
    "version_minor": 0
   }
  }
 },
 "nbformat": 4,
 "nbformat_minor": 4
}
